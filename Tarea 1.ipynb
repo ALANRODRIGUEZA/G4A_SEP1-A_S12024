{
 "cells": [
  {
   "cell_type": "code",
   "execution_count": 5,
   "metadata": {},
   "outputs": [
    {
     "ename": "LoadflowNotConverged",
     "evalue": "Power Flow nr did not converge after 100000 iterations!",
     "output_type": "error",
     "traceback": [
      "\u001b[1;31m---------------------------------------------------------------------------\u001b[0m",
      "\u001b[1;31mLoadflowNotConverged\u001b[0m                      Traceback (most recent call last)",
      "Cell \u001b[1;32mIn[5], line 46\u001b[0m\n\u001b[0;32m     42\u001b[0m pp\u001b[38;5;241m.\u001b[39mcreate_load(red2, barra_1B, p_mw\u001b[38;5;241m=\u001b[39m\u001b[38;5;241m15.0\u001b[39m, q_mvar\u001b[38;5;241m=\u001b[39m\u001b[38;5;241m10.0\u001b[39m, name\u001b[38;5;241m=\u001b[39m\u001b[38;5;124m\"\u001b[39m\u001b[38;5;124mCarga Barra 1B\u001b[39m\u001b[38;5;124m\"\u001b[39m)\n\u001b[0;32m     43\u001b[0m pp\u001b[38;5;241m.\u001b[39mcreate_load(red2, barra_2B, p_mw\u001b[38;5;241m=\u001b[39m\u001b[38;5;241m90.0\u001b[39m, q_mvar\u001b[38;5;241m=\u001b[39m\u001b[38;5;241m60.0\u001b[39m, name\u001b[38;5;241m=\u001b[39m\u001b[38;5;124m\"\u001b[39m\u001b[38;5;124mCarga Barra 2B\u001b[39m\u001b[38;5;124m\"\u001b[39m)\n\u001b[1;32m---> 46\u001b[0m \u001b[43mpp\u001b[49m\u001b[38;5;241;43m.\u001b[39;49m\u001b[43mrunpp\u001b[49m\u001b[43m(\u001b[49m\u001b[43mred2\u001b[49m\u001b[43m,\u001b[49m\u001b[43m \u001b[49m\u001b[43malgorithm\u001b[49m\u001b[38;5;241;43m=\u001b[39;49m\u001b[38;5;124;43m'\u001b[39;49m\u001b[38;5;124;43mnr\u001b[39;49m\u001b[38;5;124;43m'\u001b[39;49m\u001b[43m,\u001b[49m\u001b[43m \u001b[49m\u001b[43mnumba\u001b[49m\u001b[38;5;241;43m=\u001b[39;49m\u001b[38;5;28;43;01mFalse\u001b[39;49;00m\u001b[43m,\u001b[49m\u001b[43mmax_iteration\u001b[49m\u001b[38;5;241;43m=\u001b[39;49m\u001b[38;5;241;43m100000\u001b[39;49m\u001b[43m)\u001b[49m\n\u001b[0;32m     49\u001b[0m red2\u001b[38;5;241m.\u001b[39mres_line\u001b[38;5;241m.\u001b[39mindex \u001b[38;5;241m=\u001b[39m red2\u001b[38;5;241m.\u001b[39mline\u001b[38;5;241m.\u001b[39mname\n\u001b[0;32m     50\u001b[0m red2\u001b[38;5;241m.\u001b[39mres_bus\u001b[38;5;241m.\u001b[39mindex \u001b[38;5;241m=\u001b[39m red2\u001b[38;5;241m.\u001b[39mbus\u001b[38;5;241m.\u001b[39mname\n",
      "File \u001b[1;32m~\\AppData\\Local\\Packages\\PythonSoftwareFoundation.Python.3.11_qbz5n2kfra8p0\\LocalCache\\local-packages\\Python311\\site-packages\\pandapower\\run.py:250\u001b[0m, in \u001b[0;36mrunpp\u001b[1;34m(net, algorithm, calculate_voltage_angles, init, max_iteration, tolerance_mva, trafo_model, trafo_loading, enforce_q_lims, check_connectivity, voltage_depend_loads, consider_line_temperature, run_control, distributed_slack, tdpf, tdpf_delay_s, **kwargs)\u001b[0m\n\u001b[0;32m    248\u001b[0m _check_bus_index_and_print_warning_if_high(net)\n\u001b[0;32m    249\u001b[0m _check_gen_index_and_print_warning_if_high(net)\n\u001b[1;32m--> 250\u001b[0m \u001b[43m_powerflow\u001b[49m\u001b[43m(\u001b[49m\u001b[43mnet\u001b[49m\u001b[43m,\u001b[49m\u001b[43m \u001b[49m\u001b[38;5;241;43m*\u001b[39;49m\u001b[38;5;241;43m*\u001b[39;49m\u001b[43mkwargs\u001b[49m\u001b[43m)\u001b[49m\n",
      "File \u001b[1;32m~\\AppData\\Local\\Packages\\PythonSoftwareFoundation.Python.3.11_qbz5n2kfra8p0\\LocalCache\\local-packages\\Python311\\site-packages\\pandapower\\powerflow.py:86\u001b[0m, in \u001b[0;36m_powerflow\u001b[1;34m(net, **kwargs)\u001b[0m\n\u001b[0;32m     84\u001b[0m result \u001b[38;5;241m=\u001b[39m _run_pf_algorithm(ppci, net[\u001b[38;5;124m\"\u001b[39m\u001b[38;5;124m_options\u001b[39m\u001b[38;5;124m\"\u001b[39m], \u001b[38;5;241m*\u001b[39m\u001b[38;5;241m*\u001b[39mkwargs)\n\u001b[0;32m     85\u001b[0m \u001b[38;5;66;03m# read the results (=ppci with results) to net\u001b[39;00m\n\u001b[1;32m---> 86\u001b[0m \u001b[43m_ppci_to_net\u001b[49m\u001b[43m(\u001b[49m\u001b[43mresult\u001b[49m\u001b[43m,\u001b[49m\u001b[43m \u001b[49m\u001b[43mnet\u001b[49m\u001b[43m)\u001b[49m\n",
      "File \u001b[1;32m~\\AppData\\Local\\Packages\\PythonSoftwareFoundation.Python.3.11_qbz5n2kfra8p0\\LocalCache\\local-packages\\Python311\\site-packages\\pandapower\\powerflow.py:190\u001b[0m, in \u001b[0;36m_ppci_to_net\u001b[1;34m(result, net)\u001b[0m\n\u001b[0;32m    188\u001b[0m     algorithm \u001b[38;5;241m=\u001b[39m net[\u001b[38;5;124m\"\u001b[39m\u001b[38;5;124m_options\u001b[39m\u001b[38;5;124m\"\u001b[39m][\u001b[38;5;124m\"\u001b[39m\u001b[38;5;124malgorithm\u001b[39m\u001b[38;5;124m\"\u001b[39m]\n\u001b[0;32m    189\u001b[0m     max_iteration \u001b[38;5;241m=\u001b[39m net[\u001b[38;5;124m\"\u001b[39m\u001b[38;5;124m_options\u001b[39m\u001b[38;5;124m\"\u001b[39m][\u001b[38;5;124m\"\u001b[39m\u001b[38;5;124mmax_iteration\u001b[39m\u001b[38;5;124m\"\u001b[39m]\n\u001b[1;32m--> 190\u001b[0m     \u001b[38;5;28;01mraise\u001b[39;00m LoadflowNotConverged(\u001b[38;5;124m\"\u001b[39m\u001b[38;5;124mPower Flow \u001b[39m\u001b[38;5;132;01m{0}\u001b[39;00m\u001b[38;5;124m did not converge after \u001b[39m\u001b[38;5;124m\"\u001b[39m\n\u001b[0;32m    191\u001b[0m                                \u001b[38;5;124m\"\u001b[39m\u001b[38;5;132;01m{1}\u001b[39;00m\u001b[38;5;124m iterations!\u001b[39m\u001b[38;5;124m\"\u001b[39m\u001b[38;5;241m.\u001b[39mformat(algorithm, max_iteration))\n\u001b[0;32m    192\u001b[0m \u001b[38;5;28;01melse\u001b[39;00m:\n\u001b[0;32m    193\u001b[0m     net[\u001b[38;5;124m\"\u001b[39m\u001b[38;5;124m_ppc\u001b[39m\u001b[38;5;124m\"\u001b[39m] \u001b[38;5;241m=\u001b[39m result\n",
      "\u001b[1;31mLoadflowNotConverged\u001b[0m: Power Flow nr did not converge after 100000 iterations!"
     ]
    }
   ],
   "source": [
    "#importar librerias\n",
    "import numpy as np\n",
    "import pandas as pd\n",
    "import pandapower as pp\n",
    "import networkx as nx\n",
    "import matplotlib.pyplot as plt\n",
    "import matplotlib.gridspec as gridspec\n",
    "\n",
    "pd.set_option('display.float_format', lambda x: '{:.4f}'.format(x))\n",
    "\n",
    "\n",
    "#crear la red a analizar\n",
    "#red vacia para sistema 2\n",
    "red2 = pp.create_empty_network()\n",
    "\n",
    "#crarción de las barras del sistema 2\n",
    "barra_1 = pp.create_bus(red2, vn_kv=110, name=\"Barra 1\")\n",
    "barra_2 = pp.create_bus(red2, vn_kv=220, name=\"Barra 2\")\n",
    "barra_1A = pp.create_bus(red2, vn_kv=220, name=\"Barra 1A\")\n",
    "barra_1B = pp.create_bus(red2, vn_kv=220, name=\"Barra 1B\")\n",
    "barra_2A = pp.create_bus(red2, vn_kv=220, name=\"Barra 2A\")\n",
    "barra_2B = pp.create_bus(red2, vn_kv=220, name=\"Barra 2B\")\n",
    "barra_3A = pp.create_bus(red2, vn_kv=220, name=\"Barra 3A\")\n",
    "\n",
    "#añadir tranformador entre barra 1 y 2\n",
    "pp.create_transformer(red2, barra_1, barra_2, std_type=\"100 MVA 220/110 kV\")\n",
    "#añadir el generador en la barra 1 y que dicha barra sea la referencia\n",
    "pp.create_ext_grid(red2, barra_1, va_pu=1.0, name=\"Slack\")\n",
    "\n",
    "#crear las lineas\n",
    "pp.create_line(red2, barra_2, barra_1A, length_km=10.0, std_type=\"NAYY 4x150 SE\", name=\"L2-1A\")\n",
    "pp.create_line(red2, barra_2, barra_1B, length_km=10.0, std_type=\"NAYY 4x150 SE\", name=\"L2-1B\")\n",
    "pp.create_line(red2, barra_1A, barra_2A, length_km=15.0, std_type=\"NAYY 4x150 SE\", name=\"L1A-2A\")\n",
    "pp.create_line(red2, barra_2A, barra_3A, length_km=20.0, std_type=\"NAYY 4x150 SE\", name=\"L2A-3A\")\n",
    "pp.create_line(red2, barra_1B, barra_2B, length_km=30.0, std_type=\"NAYY 4x150 SE\", name=\"L1B-2B\")\n",
    "pp.create_line(red2, barra_2B, barra_3A, length_km=15.0, std_type=\"NAYY 4x150 SE\", name=\"L2B-3A\")\n",
    "\n",
    "#crear las cargas\n",
    "pp.create_load(red2, barra_1A, p_mw=30.0, q_mvar=20.0, name=\"Carga Barra 1A\")\n",
    "pp.create_load(red2, barra_2A, p_mw=52.5, q_mvar=35.0, name=\"Carga Barra 2A\")\n",
    "pp.create_load(red2, barra_3A, p_mw=22.5, q_mvar=15.0, name=\"Carga Barra 3A\")\n",
    "pp.create_load(red2, barra_1B, p_mw=15.0, q_mvar=10.0, name=\"Carga Barra 1B\")\n",
    "pp.create_load(red2, barra_2B, p_mw=90.0, q_mvar=60.0, name=\"Carga Barra 2B\")\n",
    "\n",
    "\n",
    "pp.runpp(red2, algorithm='nr', numba=False,max_iteration=100000)\n",
    "\n",
    "\n",
    "red2.res_line.index = red2.line.name\n",
    "red2.res_bus.index = red2.bus.name\n",
    "\n",
    "\n",
    "red2.res.bus\n",
    "\n",
    "\n"
   ]
  }
 ],
 "metadata": {
  "kernelspec": {
   "display_name": "Python 3",
   "language": "python",
   "name": "python3"
  },
  "language_info": {
   "codemirror_mode": {
    "name": "ipython",
    "version": 3
   },
   "file_extension": ".py",
   "mimetype": "text/x-python",
   "name": "python",
   "nbconvert_exporter": "python",
   "pygments_lexer": "ipython3",
   "version": "3.11.9"
  }
 },
 "nbformat": 4,
 "nbformat_minor": 2
}
